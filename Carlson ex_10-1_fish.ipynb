{
 "cells": [
  {
   "cell_type": "markdown",
   "metadata": {},
   "source": [
    "##  Carlson Exercise 10-1: Create a linear regression"
   ]
  },
  {
   "cell_type": "markdown",
   "metadata": {},
   "source": [
    "### Get the data"
   ]
  },
  {
   "cell_type": "code",
   "execution_count": 72,
   "metadata": {},
   "outputs": [],
   "source": [
    "import pandas as pd\n",
    "import seaborn as sns\n",
    "import numpy as np\n",
    "import matplotlib.pyplot as plt\n",
    "from sklearn.linear_model import LinearRegression\n",
    "from sklearn.model_selection import train_test_split\n"
   ]
  },
  {
   "cell_type": "code",
   "execution_count": 74,
   "metadata": {},
   "outputs": [],
   "source": [
    "fish = pd.read_csv('Fish.csv')"
   ]
  },
  {
   "cell_type": "code",
   "execution_count": 76,
   "metadata": {},
   "outputs": [
    {
     "data": {
      "text/html": [
       "<div>\n",
       "<style scoped>\n",
       "    .dataframe tbody tr th:only-of-type {\n",
       "        vertical-align: middle;\n",
       "    }\n",
       "\n",
       "    .dataframe tbody tr th {\n",
       "        vertical-align: top;\n",
       "    }\n",
       "\n",
       "    .dataframe thead th {\n",
       "        text-align: right;\n",
       "    }\n",
       "</style>\n",
       "<table border=\"1\" class=\"dataframe\">\n",
       "  <thead>\n",
       "    <tr style=\"text-align: right;\">\n",
       "      <th></th>\n",
       "      <th>Species</th>\n",
       "      <th>Weight</th>\n",
       "      <th>Length1</th>\n",
       "      <th>Length2</th>\n",
       "      <th>Length3</th>\n",
       "      <th>Height</th>\n",
       "      <th>Width</th>\n",
       "    </tr>\n",
       "  </thead>\n",
       "  <tbody>\n",
       "    <tr>\n",
       "      <th>0</th>\n",
       "      <td>Bream</td>\n",
       "      <td>242.0</td>\n",
       "      <td>23.2</td>\n",
       "      <td>25.4</td>\n",
       "      <td>30.0</td>\n",
       "      <td>11.5200</td>\n",
       "      <td>4.0200</td>\n",
       "    </tr>\n",
       "    <tr>\n",
       "      <th>1</th>\n",
       "      <td>Bream</td>\n",
       "      <td>290.0</td>\n",
       "      <td>24.0</td>\n",
       "      <td>26.3</td>\n",
       "      <td>31.2</td>\n",
       "      <td>12.4800</td>\n",
       "      <td>4.3056</td>\n",
       "    </tr>\n",
       "    <tr>\n",
       "      <th>2</th>\n",
       "      <td>Bream</td>\n",
       "      <td>340.0</td>\n",
       "      <td>23.9</td>\n",
       "      <td>26.5</td>\n",
       "      <td>31.1</td>\n",
       "      <td>12.3778</td>\n",
       "      <td>4.6961</td>\n",
       "    </tr>\n",
       "    <tr>\n",
       "      <th>3</th>\n",
       "      <td>Bream</td>\n",
       "      <td>363.0</td>\n",
       "      <td>26.3</td>\n",
       "      <td>29.0</td>\n",
       "      <td>33.5</td>\n",
       "      <td>12.7300</td>\n",
       "      <td>4.4555</td>\n",
       "    </tr>\n",
       "    <tr>\n",
       "      <th>4</th>\n",
       "      <td>Bream</td>\n",
       "      <td>430.0</td>\n",
       "      <td>26.5</td>\n",
       "      <td>29.0</td>\n",
       "      <td>34.0</td>\n",
       "      <td>12.4440</td>\n",
       "      <td>5.1340</td>\n",
       "    </tr>\n",
       "  </tbody>\n",
       "</table>\n",
       "</div>"
      ],
      "text/plain": [
       "  Species  Weight  Length1  Length2  Length3   Height   Width\n",
       "0   Bream   242.0     23.2     25.4     30.0  11.5200  4.0200\n",
       "1   Bream   290.0     24.0     26.3     31.2  12.4800  4.3056\n",
       "2   Bream   340.0     23.9     26.5     31.1  12.3778  4.6961\n",
       "3   Bream   363.0     26.3     29.0     33.5  12.7300  4.4555\n",
       "4   Bream   430.0     26.5     29.0     34.0  12.4440  5.1340"
      ]
     },
     "execution_count": 76,
     "metadata": {},
     "output_type": "execute_result"
    }
   ],
   "source": [
    "fish.head()"
   ]
  },
  {
   "cell_type": "markdown",
   "metadata": {},
   "source": [
    "### Clean the data"
   ]
  },
  {
   "cell_type": "code",
   "execution_count": 85,
   "metadata": {},
   "outputs": [],
   "source": [
    "# read the info.txt file and rename the Length columns so they're more descriptive\n",
    "fish = fish.rename(columns={'Length1': 'VLen', 'Length2': 'DLen', 'Length3':'CLen'})"
   ]
  },
  {
   "cell_type": "code",
   "execution_count": 81,
   "metadata": {},
   "outputs": [
    {
     "name": "stdout",
     "output_type": "stream",
     "text": [
      "    Species  Weight  VLen  DLen  CLen   Height   Width\n",
      "0     Bream   242.0  23.2  25.4  30.0  11.5200  4.0200\n",
      "1     Bream   290.0  24.0  26.3  31.2  12.4800  4.3056\n",
      "2     Bream   340.0  23.9  26.5  31.1  12.3778  4.6961\n",
      "3     Bream   363.0  26.3  29.0  33.5  12.7300  4.4555\n",
      "4     Bream   430.0  26.5  29.0  34.0  12.4440  5.1340\n",
      "..      ...     ...   ...   ...   ...      ...     ...\n",
      "154   Smelt    12.2  11.5  12.2  13.4   2.0904  1.3936\n",
      "155   Smelt    13.4  11.7  12.4  13.5   2.4300  1.2690\n",
      "156   Smelt    12.2  12.1  13.0  13.8   2.2770  1.2558\n",
      "157   Smelt    19.7  13.2  14.3  15.2   2.8728  2.0672\n",
      "158   Smelt    19.9  13.8  15.0  16.2   2.9322  1.8792\n",
      "\n",
      "[159 rows x 7 columns]\n"
     ]
    }
   ],
   "source": [
    "print(fish)"
   ]
  },
  {
   "cell_type": "code",
   "execution_count": 83,
   "metadata": {},
   "outputs": [
    {
     "name": "stdout",
     "output_type": "stream",
     "text": [
      "<class 'pandas.core.frame.DataFrame'>\n",
      "RangeIndex: 159 entries, 0 to 158\n",
      "Data columns (total 7 columns):\n",
      " #   Column   Non-Null Count  Dtype  \n",
      "---  ------   --------------  -----  \n",
      " 0   Species  159 non-null    object \n",
      " 1   Weight   159 non-null    float64\n",
      " 2   VLen     159 non-null    float64\n",
      " 3   DLen     159 non-null    float64\n",
      " 4   CLen     159 non-null    float64\n",
      " 5   Height   159 non-null    float64\n",
      " 6   Width    159 non-null    float64\n",
      "dtypes: float64(6), object(1)\n",
      "memory usage: 8.8+ KB\n"
     ]
    }
   ],
   "source": [
    "fish.info()"
   ]
  },
  {
   "cell_type": "markdown",
   "metadata": {},
   "source": [
    "## Examine relationships in the data and identify correlations"
   ]
  },
  {
   "cell_type": "code",
   "execution_count": 91,
   "metadata": {
    "scrolled": true
   },
   "outputs": [
    {
     "data": {
      "text/plain": [
       "<seaborn.axisgrid.FacetGrid at 0x16e0bf22490>"
      ]
     },
     "execution_count": 91,
     "metadata": {},
     "output_type": "execute_result"
    },
    {
     "data": {
      "image/png": "[encoded data removed]",
      "text/plain": [
       "<Figure size 615.125x500 with 1 Axes>"
      ]
     },
     "metadata": {},
     "output_type": "display_data"
    }
   ],
   "source": [
    "# use a scatterplot to plot the correlation between weight and vertical length for all fish\n",
    "sns.relplot(data=fish, x='VLen', y='Weight', hue ='Species')\n",
    "#plt.yscale('log')\n",
    "#plt.show()"
   ]
  },
  {
   "cell_type": "markdown",
   "metadata": {},
   "source": [
    "### This is crazy!!  There are several species of fish with different length-weight relationships.  We will select pike"
   ]
  },
  {
   "cell_type": "code",
   "execution_count": 100,
   "metadata": {},
   "outputs": [
    {
     "data": {
      "text/html": [
       "<div>\n",
       "<style scoped>\n",
       "    .dataframe tbody tr th:only-of-type {\n",
       "        vertical-align: middle;\n",
       "    }\n",
       "\n",
       "    .dataframe tbody tr th {\n",
       "        vertical-align: top;\n",
       "    }\n",
       "\n",
       "    .dataframe thead th {\n",
       "        text-align: right;\n",
       "    }\n",
       "</style>\n",
       "<table border=\"1\" class=\"dataframe\">\n",
       "  <thead>\n",
       "    <tr style=\"text-align: right;\">\n",
       "      <th></th>\n",
       "      <th>Species</th>\n",
       "      <th>Weight</th>\n",
       "      <th>VLen</th>\n",
       "      <th>DLen</th>\n",
       "      <th>CLen</th>\n",
       "      <th>Height</th>\n",
       "      <th>Width</th>\n",
       "    </tr>\n",
       "  </thead>\n",
       "  <tbody>\n",
       "    <tr>\n",
       "      <th>128</th>\n",
       "      <td>Pike</td>\n",
       "      <td>200.0</td>\n",
       "      <td>30.0</td>\n",
       "      <td>32.3</td>\n",
       "      <td>34.8</td>\n",
       "      <td>5.5680</td>\n",
       "      <td>3.3756</td>\n",
       "    </tr>\n",
       "    <tr>\n",
       "      <th>129</th>\n",
       "      <td>Pike</td>\n",
       "      <td>300.0</td>\n",
       "      <td>31.7</td>\n",
       "      <td>34.0</td>\n",
       "      <td>37.8</td>\n",
       "      <td>5.7078</td>\n",
       "      <td>4.1580</td>\n",
       "    </tr>\n",
       "    <tr>\n",
       "      <th>130</th>\n",
       "      <td>Pike</td>\n",
       "      <td>300.0</td>\n",
       "      <td>32.7</td>\n",
       "      <td>35.0</td>\n",
       "      <td>38.8</td>\n",
       "      <td>5.9364</td>\n",
       "      <td>4.3844</td>\n",
       "    </tr>\n",
       "    <tr>\n",
       "      <th>131</th>\n",
       "      <td>Pike</td>\n",
       "      <td>300.0</td>\n",
       "      <td>34.8</td>\n",
       "      <td>37.3</td>\n",
       "      <td>39.8</td>\n",
       "      <td>6.2884</td>\n",
       "      <td>4.0198</td>\n",
       "    </tr>\n",
       "    <tr>\n",
       "      <th>132</th>\n",
       "      <td>Pike</td>\n",
       "      <td>430.0</td>\n",
       "      <td>35.5</td>\n",
       "      <td>38.0</td>\n",
       "      <td>40.5</td>\n",
       "      <td>7.2900</td>\n",
       "      <td>4.5765</td>\n",
       "    </tr>\n",
       "  </tbody>\n",
       "</table>\n",
       "</div>"
      ],
      "text/plain": [
       "    Species  Weight  VLen  DLen  CLen  Height   Width\n",
       "128    Pike   200.0  30.0  32.3  34.8  5.5680  3.3756\n",
       "129    Pike   300.0  31.7  34.0  37.8  5.7078  4.1580\n",
       "130    Pike   300.0  32.7  35.0  38.8  5.9364  4.3844\n",
       "131    Pike   300.0  34.8  37.3  39.8  6.2884  4.0198\n",
       "132    Pike   430.0  35.5  38.0  40.5  7.2900  4.5765"
      ]
     },
     "execution_count": 100,
     "metadata": {},
     "output_type": "execute_result"
    }
   ],
   "source": [
    "pike_data = fish[fish['Species'] == 'Pike']\n",
    "pike_data.head()"
   ]
  },
  {
   "cell_type": "markdown",
   "metadata": {},
   "source": [
    "### Perform a logit transform on the weight data and create a new column"
   ]
  },
  {
   "cell_type": "code",
   "execution_count": 139,
   "metadata": {},
   "outputs": [
    {
     "data": {
      "text/html": [
       "<div>\n",
       "<style scoped>\n",
       "    .dataframe tbody tr th:only-of-type {\n",
       "        vertical-align: middle;\n",
       "    }\n",
       "\n",
       "    .dataframe tbody tr th {\n",
       "        vertical-align: top;\n",
       "    }\n",
       "\n",
       "    .dataframe thead th {\n",
       "        text-align: right;\n",
       "    }\n",
       "</style>\n",
       "<table border=\"1\" class=\"dataframe\">\n",
       "  <thead>\n",
       "    <tr style=\"text-align: right;\">\n",
       "      <th></th>\n",
       "      <th>Weight</th>\n",
       "      <th>VLen</th>\n",
       "      <th>DLen</th>\n",
       "      <th>CLen</th>\n",
       "      <th>Height</th>\n",
       "      <th>Width</th>\n",
       "      <th>logit_wt</th>\n",
       "    </tr>\n",
       "  </thead>\n",
       "  <tbody>\n",
       "    <tr>\n",
       "      <th>count</th>\n",
       "      <td>17.000000</td>\n",
       "      <td>17.000000</td>\n",
       "      <td>17.000000</td>\n",
       "      <td>17.000000</td>\n",
       "      <td>17.000000</td>\n",
       "      <td>17.000000</td>\n",
       "      <td>14.000000</td>\n",
       "    </tr>\n",
       "    <tr>\n",
       "      <th>mean</th>\n",
       "      <td>718.705882</td>\n",
       "      <td>42.476471</td>\n",
       "      <td>45.482353</td>\n",
       "      <td>48.717647</td>\n",
       "      <td>7.713771</td>\n",
       "      <td>5.086382</td>\n",
       "      <td>-0.657105</td>\n",
       "    </tr>\n",
       "    <tr>\n",
       "      <th>std</th>\n",
       "      <td>494.140765</td>\n",
       "      <td>9.029087</td>\n",
       "      <td>9.714116</td>\n",
       "      <td>10.167426</td>\n",
       "      <td>1.664228</td>\n",
       "      <td>1.140269</td>\n",
       "      <td>0.902672</td>\n",
       "    </tr>\n",
       "    <tr>\n",
       "      <th>min</th>\n",
       "      <td>200.000000</td>\n",
       "      <td>30.000000</td>\n",
       "      <td>32.300000</td>\n",
       "      <td>34.800000</td>\n",
       "      <td>5.568000</td>\n",
       "      <td>3.375600</td>\n",
       "      <td>-1.871802</td>\n",
       "    </tr>\n",
       "    <tr>\n",
       "      <th>25%</th>\n",
       "      <td>345.000000</td>\n",
       "      <td>35.500000</td>\n",
       "      <td>38.000000</td>\n",
       "      <td>40.500000</td>\n",
       "      <td>6.396000</td>\n",
       "      <td>4.322500</td>\n",
       "      <td>-1.341799</td>\n",
       "    </tr>\n",
       "    <tr>\n",
       "      <th>50%</th>\n",
       "      <td>510.000000</td>\n",
       "      <td>40.100000</td>\n",
       "      <td>43.000000</td>\n",
       "      <td>45.800000</td>\n",
       "      <td>7.290000</td>\n",
       "      <td>4.870000</td>\n",
       "      <td>-0.760735</td>\n",
       "    </tr>\n",
       "    <tr>\n",
       "      <th>75%</th>\n",
       "      <td>950.000000</td>\n",
       "      <td>48.300000</td>\n",
       "      <td>51.700000</td>\n",
       "      <td>55.100000</td>\n",
       "      <td>8.926200</td>\n",
       "      <td>6.144000</td>\n",
       "      <td>-0.517375</td>\n",
       "    </tr>\n",
       "    <tr>\n",
       "      <th>max</th>\n",
       "      <td>1650.000000</td>\n",
       "      <td>59.000000</td>\n",
       "      <td>63.400000</td>\n",
       "      <td>68.000000</td>\n",
       "      <td>10.812000</td>\n",
       "      <td>7.480000</td>\n",
       "      <td>1.609438</td>\n",
       "    </tr>\n",
       "  </tbody>\n",
       "</table>\n",
       "</div>"
      ],
      "text/plain": [
       "            Weight       VLen       DLen       CLen     Height      Width  \\\n",
       "count    17.000000  17.000000  17.000000  17.000000  17.000000  17.000000   \n",
       "mean    718.705882  42.476471  45.482353  48.717647   7.713771   5.086382   \n",
       "std     494.140765   9.029087   9.714116  10.167426   1.664228   1.140269   \n",
       "min     200.000000  30.000000  32.300000  34.800000   5.568000   3.375600   \n",
       "25%     345.000000  35.500000  38.000000  40.500000   6.396000   4.322500   \n",
       "50%     510.000000  40.100000  43.000000  45.800000   7.290000   4.870000   \n",
       "75%     950.000000  48.300000  51.700000  55.100000   8.926200   6.144000   \n",
       "max    1650.000000  59.000000  63.400000  68.000000  10.812000   7.480000   \n",
       "\n",
       "        logit_wt  \n",
       "count  14.000000  \n",
       "mean   -0.657105  \n",
       "std     0.902672  \n",
       "min    -1.871802  \n",
       "25%    -1.341799  \n",
       "50%    -0.760735  \n",
       "75%    -0.517375  \n",
       "max     1.609438  "
      ]
     },
     "execution_count": 139,
     "metadata": {},
     "output_type": "execute_result"
    }
   ],
   "source": [
    "pike_data.describe()"
   ]
  },
  {
   "cell_type": "code",
   "execution_count": 143,
   "metadata": {},
   "outputs": [],
   "source": [
    "# First we filter out rows where 'Weight' is 0 or 1\n",
    "pike_data = pike_data[(pike_data['Weight'] > 0.0)]"
   ]
  },
  {
   "cell_type": "code",
   "execution_count": 145,
   "metadata": {
    "scrolled": true
   },
   "outputs": [
    {
     "data": {
      "text/html": [
       "<div>\n",
       "<style scoped>\n",
       "    .dataframe tbody tr th:only-of-type {\n",
       "        vertical-align: middle;\n",
       "    }\n",
       "\n",
       "    .dataframe tbody tr th {\n",
       "        vertical-align: top;\n",
       "    }\n",
       "\n",
       "    .dataframe thead th {\n",
       "        text-align: right;\n",
       "    }\n",
       "</style>\n",
       "<table border=\"1\" class=\"dataframe\">\n",
       "  <thead>\n",
       "    <tr style=\"text-align: right;\">\n",
       "      <th></th>\n",
       "      <th>Species</th>\n",
       "      <th>Weight</th>\n",
       "      <th>VLen</th>\n",
       "      <th>DLen</th>\n",
       "      <th>CLen</th>\n",
       "      <th>Height</th>\n",
       "      <th>Width</th>\n",
       "      <th>logit_wt</th>\n",
       "    </tr>\n",
       "  </thead>\n",
       "  <tbody>\n",
       "    <tr>\n",
       "      <th>128</th>\n",
       "      <td>Pike</td>\n",
       "      <td>200.0</td>\n",
       "      <td>30.0</td>\n",
       "      <td>32.3</td>\n",
       "      <td>34.8</td>\n",
       "      <td>5.5680</td>\n",
       "      <td>3.3756</td>\n",
       "      <td>-1.981001</td>\n",
       "    </tr>\n",
       "    <tr>\n",
       "      <th>129</th>\n",
       "      <td>Pike</td>\n",
       "      <td>300.0</td>\n",
       "      <td>31.7</td>\n",
       "      <td>34.0</td>\n",
       "      <td>37.8</td>\n",
       "      <td>5.7078</td>\n",
       "      <td>4.1580</td>\n",
       "      <td>-1.504077</td>\n",
       "    </tr>\n",
       "    <tr>\n",
       "      <th>130</th>\n",
       "      <td>Pike</td>\n",
       "      <td>300.0</td>\n",
       "      <td>32.7</td>\n",
       "      <td>35.0</td>\n",
       "      <td>38.8</td>\n",
       "      <td>5.9364</td>\n",
       "      <td>4.3844</td>\n",
       "      <td>-1.504077</td>\n",
       "    </tr>\n",
       "    <tr>\n",
       "      <th>131</th>\n",
       "      <td>Pike</td>\n",
       "      <td>300.0</td>\n",
       "      <td>34.8</td>\n",
       "      <td>37.3</td>\n",
       "      <td>39.8</td>\n",
       "      <td>6.2884</td>\n",
       "      <td>4.0198</td>\n",
       "      <td>-1.504077</td>\n",
       "    </tr>\n",
       "    <tr>\n",
       "      <th>132</th>\n",
       "      <td>Pike</td>\n",
       "      <td>430.0</td>\n",
       "      <td>35.5</td>\n",
       "      <td>38.0</td>\n",
       "      <td>40.5</td>\n",
       "      <td>7.2900</td>\n",
       "      <td>4.5765</td>\n",
       "      <td>-1.042821</td>\n",
       "    </tr>\n",
       "  </tbody>\n",
       "</table>\n",
       "</div>"
      ],
      "text/plain": [
       "    Species  Weight  VLen  DLen  CLen  Height   Width  logit_wt\n",
       "128    Pike   200.0  30.0  32.3  34.8  5.5680  3.3756 -1.981001\n",
       "129    Pike   300.0  31.7  34.0  37.8  5.7078  4.1580 -1.504077\n",
       "130    Pike   300.0  32.7  35.0  38.8  5.9364  4.3844 -1.504077\n",
       "131    Pike   300.0  34.8  37.3  39.8  6.2884  4.0198 -1.504077\n",
       "132    Pike   430.0  35.5  38.0  40.5  7.2900  4.5765 -1.042821"
      ]
     },
     "execution_count": 145,
     "metadata": {},
     "output_type": "execute_result"
    }
   ],
   "source": [
    "pike_data['logit_wt'] = np.log(pike_data['Weight'] / (1650- pike_data['Weight']))\n",
    "pike_data.head()"
   ]
  },
  {
   "cell_type": "markdown",
   "metadata": {},
   "source": [
    "### Now we can graph the logit-transformed weight data for pike"
   ]
  },
  {
   "cell_type": "code",
   "execution_count": 152,
   "metadata": {},
   "outputs": [
    {
     "data": {
      "image/png": "[encoded data removed]",
      "text/plain": [
       "<Figure size 500x500 with 1 Axes>"
      ]
     },
     "metadata": {},
     "output_type": "display_data"
    }
   ],
   "source": [
    "# use a scatterplot to plot the correlation between weight and vertical length for all fish\n",
    "sns.relplot(data=pike_data, x='VLen', y='logit_wt')\n",
    "plt.show()"
   ]
  },
  {
   "cell_type": "code",
   "execution_count": 158,
   "metadata": {},
   "outputs": [
    {
     "name": "stdout",
     "output_type": "stream",
     "text": [
      "            Weight      VLen      DLen      CLen    Height     Width  logit_wt\n",
      "Weight    1.000000  0.971992  0.974074  0.979019  0.936475  0.919733  0.988343\n",
      "VLen      0.971992  1.000000  0.999850  0.998547  0.953398  0.932718  0.941955\n",
      "DLen      0.974074  0.999850  1.000000  0.998914  0.955495  0.936194  0.943518\n",
      "CLen      0.979019  0.998547  0.998914  1.000000  0.953083  0.941442  0.950239\n",
      "Height    0.936475  0.953398  0.955495  0.953083  1.000000  0.966731  0.867520\n",
      "Width     0.919733  0.932718  0.936194  0.941442  0.966731  1.000000  0.834223\n",
      "logit_wt  0.988343  0.941955  0.943518  0.950239  0.867520  0.834223  1.000000\n"
     ]
    }
   ],
   "source": [
    "# get the correlation data for the Weight column\n",
    "pike_corr_matrix = pike_data.select_dtypes(include='number').corr()\n",
    "print(pike_corr_matrix)"
   ]
  },
  {
   "cell_type": "code",
   "execution_count": 160,
   "metadata": {},
   "outputs": [
    {
     "data": {
      "image/png": "[encoded data removed]",
      "text/plain": [
       "<Figure size 800x600 with 2 Axes>"
      ]
     },
     "metadata": {},
     "output_type": "display_data"
    }
   ],
   "source": [
    "# create a heatmap for the correlation data\n",
    "plt.figure(figsize=(8, 6)) \n",
    "sns.heatmap(pike_corr_matrix, annot=True, cmap='coolwarm', fmt='.2f', vmin=-1, vmax=1)\n",
    "plt.show()"
   ]
  },
  {
   "cell_type": "code",
   "execution_count": 164,
   "metadata": {},
   "outputs": [],
   "source": [
    "# Re-enter fish.csv\n",
    "fish = pd.read_csv('Fish.csv')"
   ]
  },
  {
   "cell_type": "code",
   "execution_count": 176,
   "metadata": {},
   "outputs": [
    {
     "name": "stdout",
     "output_type": "stream",
     "text": [
      "<class 'pandas.core.frame.DataFrame'>\n",
      "Index: 56 entries, 72 to 127\n",
      "Data columns (total 8 columns):\n",
      " #   Column   Non-Null Count  Dtype  \n",
      "---  ------   --------------  -----  \n",
      " 0   Species  56 non-null     object \n",
      " 1   Weight   56 non-null     float64\n",
      " 2   Length1  56 non-null     float64\n",
      " 3   Length2  56 non-null     float64\n",
      " 4   Length3  56 non-null     float64\n",
      " 5   Height   56 non-null     float64\n",
      " 6   Width    56 non-null     float64\n",
      " 7   ln_wt    56 non-null     float64\n",
      "dtypes: float64(7), object(1)\n",
      "memory usage: 3.9+ KB\n"
     ]
    },
    {
     "name": "stderr",
     "output_type": "stream",
     "text": [
      "C:\\Users\\carls\\AppData\\Local\\Temp\\ipykernel_16268\\4265307444.py:3: SettingWithCopyWarning: \n",
      "A value is trying to be set on a copy of a slice from a DataFrame.\n",
      "Try using .loc[row_indexer,col_indexer] = value instead\n",
      "\n",
      "See the caveats in the documentation: https://pandas.pydata.org/pandas-docs/stable/user_guide/indexing.html#returning-a-view-versus-a-copy\n",
      "  perch_data['ln_wt'] = np.log(perch_data['Weight'])\n"
     ]
    }
   ],
   "source": [
    "# create the same scatterplot as the previous cell, but only display data for the Perch species\n",
    "perch_data = fish[fish['Species'] == 'Perch']\n",
    "perch_data['ln_wt'] = np.log(perch_data['Weight'])\n",
    "perch_data.info()"
   ]
  },
  {
   "cell_type": "code",
   "execution_count": 182,
   "metadata": {},
   "outputs": [
    {
     "data": {
      "text/plain": [
       "<seaborn.axisgrid.FacetGrid at 0x16e121aa8d0>"
      ]
     },
     "execution_count": 182,
     "metadata": {},
     "output_type": "execute_result"
    },
    {
     "data": {
      "image/png": "[encoded data removed]",
      "text/plain": [
       "<Figure size 500x500 with 1 Axes>"
      ]
     },
     "metadata": {},
     "output_type": "display_data"
    }
   ],
   "source": [
    "# use a scatterplot to plot the correlation between weight and vertical length for Perch\n",
    "sns.relplot(data=perch_data, x='Length1', y='ln_wt')\n",
    "#plt.yscale('log')\n",
    "#plt.show()"
   ]
  },
  {
   "cell_type": "markdown",
   "metadata": {},
   "source": [
    "### Remove outliers"
   ]
  },
  {
   "cell_type": "code",
   "execution_count": 210,
   "metadata": {},
   "outputs": [],
   "source": [
    "perch_data = perch_data[perch_data['ln_wt'] > 3]"
   ]
  },
  {
   "cell_type": "markdown",
   "metadata": {},
   "source": [
    "### Create a linear model"
   ]
  },
  {
   "cell_type": "code",
   "execution_count": 213,
   "metadata": {},
   "outputs": [],
   "source": [
    "# split the training and testing data\n",
    "from sklearn.model_selection import train_test_split\n",
    "X = perch_data[['Length1']]  # Features (independent variable)\n",
    "y = perch_data['ln_wt']      # Target (dependent variable)\n",
    "X_train, X_test, y_train, y_test = train_test_split(X, y, test_size=0.5, random_state=42)"
   ]
  },
  {
   "cell_type": "code",
   "execution_count": 215,
   "metadata": {},
   "outputs": [],
   "source": [
    "# create the model and fit the training data\n",
    "from sklearn.linear_model import LinearRegression\n",
    "model = LinearRegression()"
   ]
  },
  {
   "cell_type": "code",
   "execution_count": 217,
   "metadata": {},
   "outputs": [],
   "source": [
    "# Train the model on the training data and evaluate\n",
    "model.fit(X_train, y_train)\n",
    "y_pred = model.predict(X_test)"
   ]
  },
  {
   "cell_type": "code",
   "execution_count": 219,
   "metadata": {},
   "outputs": [
    {
     "name": "stdout",
     "output_type": "stream",
     "text": [
      "R-squared score: 0.9822454642603731\n"
     ]
    }
   ],
   "source": [
    "# score the testing data\n",
    "r2_score = model.score(X_test, y_test)\n",
    "print(f'R-squared score: {r2_score}')"
   ]
  },
  {
   "cell_type": "code",
   "execution_count": 223,
   "metadata": {},
   "outputs": [
    {
     "data": {
      "text/plain": [
       "array([5.44793009, 4.41439864, 5.44793009, 4.79896848, 4.85905752,\n",
       "       6.85401357, 6.54155057, 5.15950271, 6.78190672, 4.71484383,\n",
       "       7.21454779, 4.28220276, 5.50801913, 5.6281972 , 4.58264795,\n",
       "       4.79896848, 4.46246987, 4.3422918 , 6.84199576, 5.21959175,\n",
       "       6.82997795, 6.79392453, 7.2265656 , 4.79896848, 4.67879041,\n",
       "       4.79896848, 5.03932463, 5.44793009])"
      ]
     },
     "execution_count": 223,
     "metadata": {},
     "output_type": "execute_result"
    }
   ],
   "source": [
    "\n"
   ]
  },
  {
   "cell_type": "code",
   "execution_count": 225,
   "metadata": {},
   "outputs": [],
   "source": [
    "yval_pred_data = pd.DataFrame(yval_pred, columns=['ln_wt_pred'])"
   ]
  },
  {
   "cell_type": "code",
   "execution_count": 235,
   "metadata": {},
   "outputs": [
    {
     "data": {
      "text/html": [
       "<div>\n",
       "<style scoped>\n",
       "    .dataframe tbody tr th:only-of-type {\n",
       "        vertical-align: middle;\n",
       "    }\n",
       "\n",
       "    .dataframe tbody tr th {\n",
       "        vertical-align: top;\n",
       "    }\n",
       "\n",
       "    .dataframe thead th {\n",
       "        text-align: right;\n",
       "    }\n",
       "</style>\n",
       "<table border=\"1\" class=\"dataframe\">\n",
       "  <thead>\n",
       "    <tr style=\"text-align: right;\">\n",
       "      <th></th>\n",
       "      <th>ln_wt_pred</th>\n",
       "      <th>Length1</th>\n",
       "      <th>ln_wt</th>\n",
       "    </tr>\n",
       "  </thead>\n",
       "  <tbody>\n",
       "    <tr>\n",
       "      <th>11</th>\n",
       "      <td>4.282203</td>\n",
       "      <td>15.7</td>\n",
       "      <td>4.248495</td>\n",
       "    </tr>\n",
       "    <tr>\n",
       "      <th>17</th>\n",
       "      <td>4.342292</td>\n",
       "      <td>16.2</td>\n",
       "      <td>4.605170</td>\n",
       "    </tr>\n",
       "    <tr>\n",
       "      <th>1</th>\n",
       "      <td>4.414399</td>\n",
       "      <td>16.8</td>\n",
       "      <td>4.356709</td>\n",
       "    </tr>\n",
       "    <tr>\n",
       "      <th>16</th>\n",
       "      <td>4.462470</td>\n",
       "      <td>17.2</td>\n",
       "      <td>4.382027</td>\n",
       "    </tr>\n",
       "    <tr>\n",
       "      <th>14</th>\n",
       "      <td>4.582648</td>\n",
       "      <td>18.2</td>\n",
       "      <td>4.442651</td>\n",
       "    </tr>\n",
       "    <tr>\n",
       "      <th>24</th>\n",
       "      <td>4.678790</td>\n",
       "      <td>19.0</td>\n",
       "      <td>4.700480</td>\n",
       "    </tr>\n",
       "    <tr>\n",
       "      <th>9</th>\n",
       "      <td>4.714844</td>\n",
       "      <td>19.3</td>\n",
       "      <td>4.867534</td>\n",
       "    </tr>\n",
       "    <tr>\n",
       "      <th>25</th>\n",
       "      <td>4.798968</td>\n",
       "      <td>20.0</td>\n",
       "      <td>4.905275</td>\n",
       "    </tr>\n",
       "    <tr>\n",
       "      <th>3</th>\n",
       "      <td>4.798968</td>\n",
       "      <td>20.0</td>\n",
       "      <td>4.787492</td>\n",
       "    </tr>\n",
       "    <tr>\n",
       "      <th>23</th>\n",
       "      <td>4.798968</td>\n",
       "      <td>20.0</td>\n",
       "      <td>4.867534</td>\n",
       "    </tr>\n",
       "    <tr>\n",
       "      <th>15</th>\n",
       "      <td>4.798968</td>\n",
       "      <td>20.0</td>\n",
       "      <td>4.700480</td>\n",
       "    </tr>\n",
       "    <tr>\n",
       "      <th>4</th>\n",
       "      <td>4.859058</td>\n",
       "      <td>20.5</td>\n",
       "      <td>5.010635</td>\n",
       "    </tr>\n",
       "    <tr>\n",
       "      <th>26</th>\n",
       "      <td>5.039325</td>\n",
       "      <td>22.0</td>\n",
       "      <td>4.976734</td>\n",
       "    </tr>\n",
       "    <tr>\n",
       "      <th>7</th>\n",
       "      <td>5.159503</td>\n",
       "      <td>23.0</td>\n",
       "      <td>5.192957</td>\n",
       "    </tr>\n",
       "    <tr>\n",
       "      <th>19</th>\n",
       "      <td>5.219592</td>\n",
       "      <td>23.5</td>\n",
       "      <td>5.283204</td>\n",
       "    </tr>\n",
       "    <tr>\n",
       "      <th>0</th>\n",
       "      <td>5.447930</td>\n",
       "      <td>25.4</td>\n",
       "      <td>5.579730</td>\n",
       "    </tr>\n",
       "    <tr>\n",
       "      <th>27</th>\n",
       "      <td>5.447930</td>\n",
       "      <td>25.4</td>\n",
       "      <td>5.560682</td>\n",
       "    </tr>\n",
       "    <tr>\n",
       "      <th>2</th>\n",
       "      <td>5.447930</td>\n",
       "      <td>25.4</td>\n",
       "      <td>5.521461</td>\n",
       "    </tr>\n",
       "    <tr>\n",
       "      <th>12</th>\n",
       "      <td>5.508019</td>\n",
       "      <td>25.9</td>\n",
       "      <td>5.521461</td>\n",
       "    </tr>\n",
       "    <tr>\n",
       "      <th>13</th>\n",
       "      <td>5.628197</td>\n",
       "      <td>26.9</td>\n",
       "      <td>5.703782</td>\n",
       "    </tr>\n",
       "    <tr>\n",
       "      <th>6</th>\n",
       "      <td>6.541551</td>\n",
       "      <td>34.5</td>\n",
       "      <td>6.551080</td>\n",
       "    </tr>\n",
       "    <tr>\n",
       "      <th>8</th>\n",
       "      <td>6.781907</td>\n",
       "      <td>36.5</td>\n",
       "      <td>6.802395</td>\n",
       "    </tr>\n",
       "    <tr>\n",
       "      <th>21</th>\n",
       "      <td>6.793925</td>\n",
       "      <td>36.6</td>\n",
       "      <td>6.709304</td>\n",
       "    </tr>\n",
       "    <tr>\n",
       "      <th>20</th>\n",
       "      <td>6.829978</td>\n",
       "      <td>36.9</td>\n",
       "      <td>6.745236</td>\n",
       "    </tr>\n",
       "    <tr>\n",
       "      <th>18</th>\n",
       "      <td>6.841996</td>\n",
       "      <td>37.0</td>\n",
       "      <td>6.802395</td>\n",
       "    </tr>\n",
       "    <tr>\n",
       "      <th>5</th>\n",
       "      <td>6.854014</td>\n",
       "      <td>37.1</td>\n",
       "      <td>6.709304</td>\n",
       "    </tr>\n",
       "    <tr>\n",
       "      <th>10</th>\n",
       "      <td>7.214548</td>\n",
       "      <td>40.1</td>\n",
       "      <td>7.003065</td>\n",
       "    </tr>\n",
       "    <tr>\n",
       "      <th>22</th>\n",
       "      <td>7.226566</td>\n",
       "      <td>40.2</td>\n",
       "      <td>6.907755</td>\n",
       "    </tr>\n",
       "  </tbody>\n",
       "</table>\n",
       "</div>"
      ],
      "text/plain": [
       "    ln_wt_pred  Length1     ln_wt\n",
       "11    4.282203     15.7  4.248495\n",
       "17    4.342292     16.2  4.605170\n",
       "1     4.414399     16.8  4.356709\n",
       "16    4.462470     17.2  4.382027\n",
       "14    4.582648     18.2  4.442651\n",
       "24    4.678790     19.0  4.700480\n",
       "9     4.714844     19.3  4.867534\n",
       "25    4.798968     20.0  4.905275\n",
       "3     4.798968     20.0  4.787492\n",
       "23    4.798968     20.0  4.867534\n",
       "15    4.798968     20.0  4.700480\n",
       "4     4.859058     20.5  5.010635\n",
       "26    5.039325     22.0  4.976734\n",
       "7     5.159503     23.0  5.192957\n",
       "19    5.219592     23.5  5.283204\n",
       "0     5.447930     25.4  5.579730\n",
       "27    5.447930     25.4  5.560682\n",
       "2     5.447930     25.4  5.521461\n",
       "12    5.508019     25.9  5.521461\n",
       "13    5.628197     26.9  5.703782\n",
       "6     6.541551     34.5  6.551080\n",
       "8     6.781907     36.5  6.802395\n",
       "21    6.793925     36.6  6.709304\n",
       "20    6.829978     36.9  6.745236\n",
       "18    6.841996     37.0  6.802395\n",
       "5     6.854014     37.1  6.709304\n",
       "10    7.214548     40.1  7.003065\n",
       "22    7.226566     40.2  6.907755"
      ]
     },
     "execution_count": 235,
     "metadata": {},
     "output_type": "execute_result"
    }
   ],
   "source": [
    "all_perch_data = yval_pred_data.join([X_test.reset_index(drop=True), y_test.reset_index(drop=True)])\n",
    "all_perch_data = all_perch_data.sort_values(by='Length1')\n",
    "all_perch_data"
   ]
  },
  {
   "cell_type": "markdown",
   "metadata": {},
   "source": [
    "### Plot the regression line"
   ]
  },
  {
   "cell_type": "code",
   "execution_count": 239,
   "metadata": {},
   "outputs": [
    {
     "data": {
      "text/plain": [
       "<seaborn.axisgrid.FacetGrid at 0x16e0bfd0d50>"
      ]
     },
     "execution_count": 239,
     "metadata": {},
     "output_type": "execute_result"
    },
    {
     "data": {
      "image/png": "[encoded data removed]",
      "text/plain": [
       "<Figure size 500x500 with 1 Axes>"
      ]
     },
     "metadata": {},
     "output_type": "display_data"
    }
   ],
   "source": [
    "# use a scatterplot to plot the correlation between weight and vertical length for all fish\n",
    "sns.relplot(data=all_perch_data, x='Length1', y='ln_wt_pred')\n",
    "#plt.yscale('log')\n",
    "#plt.show()"
   ]
  },
  {
   "cell_type": "code",
   "execution_count": null,
   "metadata": {},
   "outputs": [],
   "source": [
    "# join the predicted data with the original data"
   ]
  },
  {
   "cell_type": "code",
   "execution_count": 241,
   "metadata": {},
   "outputs": [
    {
     "data": {
      "image/png": "[encoded data removed]",
      "text/plain": [
       "<Figure size 640x480 with 1 Axes>"
      ]
     },
     "metadata": {},
     "output_type": "display_data"
    }
   ],
   "source": [
    "sns.scatterplot(data=all_perch_data, x='Length1', y='ln_wt', color='blue', label='ln_wt')\n",
    "sns.scatterplot(data=all_perch_data, x='Length1', y='ln_wt_pred', color='red', label='pred')\n",
    "plt.legend()\n",
    "plt.show()"
   ]
  },
  {
   "cell_type": "markdown",
   "metadata": {},
   "source": [
    "## Plot the residuals"
   ]
  },
  {
   "cell_type": "code",
   "execution_count": 251,
   "metadata": {},
   "outputs": [
    {
     "data": {
      "text/html": [
       "<div>\n",
       "<style scoped>\n",
       "    .dataframe tbody tr th:only-of-type {\n",
       "        vertical-align: middle;\n",
       "    }\n",
       "\n",
       "    .dataframe tbody tr th {\n",
       "        vertical-align: top;\n",
       "    }\n",
       "\n",
       "    .dataframe thead th {\n",
       "        text-align: right;\n",
       "    }\n",
       "</style>\n",
       "<table border=\"1\" class=\"dataframe\">\n",
       "  <thead>\n",
       "    <tr style=\"text-align: right;\">\n",
       "      <th></th>\n",
       "      <th>ln_wt_pred</th>\n",
       "      <th>Length1</th>\n",
       "      <th>ln_wt</th>\n",
       "      <th>residual</th>\n",
       "    </tr>\n",
       "  </thead>\n",
       "  <tbody>\n",
       "    <tr>\n",
       "      <th>11</th>\n",
       "      <td>4.282203</td>\n",
       "      <td>15.7</td>\n",
       "      <td>4.248495</td>\n",
       "      <td>0.033708</td>\n",
       "    </tr>\n",
       "    <tr>\n",
       "      <th>17</th>\n",
       "      <td>4.342292</td>\n",
       "      <td>16.2</td>\n",
       "      <td>4.605170</td>\n",
       "      <td>-0.262878</td>\n",
       "    </tr>\n",
       "    <tr>\n",
       "      <th>1</th>\n",
       "      <td>4.414399</td>\n",
       "      <td>16.8</td>\n",
       "      <td>4.356709</td>\n",
       "      <td>0.057690</td>\n",
       "    </tr>\n",
       "    <tr>\n",
       "      <th>16</th>\n",
       "      <td>4.462470</td>\n",
       "      <td>17.2</td>\n",
       "      <td>4.382027</td>\n",
       "      <td>0.080443</td>\n",
       "    </tr>\n",
       "    <tr>\n",
       "      <th>14</th>\n",
       "      <td>4.582648</td>\n",
       "      <td>18.2</td>\n",
       "      <td>4.442651</td>\n",
       "      <td>0.139997</td>\n",
       "    </tr>\n",
       "  </tbody>\n",
       "</table>\n",
       "</div>"
      ],
      "text/plain": [
       "    ln_wt_pred  Length1     ln_wt  residual\n",
       "11    4.282203     15.7  4.248495  0.033708\n",
       "17    4.342292     16.2  4.605170 -0.262878\n",
       "1     4.414399     16.8  4.356709  0.057690\n",
       "16    4.462470     17.2  4.382027  0.080443\n",
       "14    4.582648     18.2  4.442651  0.139997"
      ]
     },
     "execution_count": 251,
     "metadata": {},
     "output_type": "execute_result"
    }
   ],
   "source": [
    "# calculate the residuals and store them in a column\n",
    "#all_perch_data['residual'] = all_perch_data['ln_wt_pred'] - all_perch_data['ln_wt']\n",
    "all_perch_data['residual'] = all_perch_data.ln_wt_pred - all_perch_data.ln_wt\n",
    "all_perch_data.head()"
   ]
  },
  {
   "cell_type": "code",
   "execution_count": 259,
   "metadata": {},
   "outputs": [
    {
     "data": {
      "image/png": "[encoded data removed]",
      "text/plain": [
       "<Figure size 640x480 with 1 Axes>"
      ]
     },
     "metadata": {},
     "output_type": "display_data"
    }
   ],
   "source": [
    "# use relplot() to create a scatterplot for the residuals\n",
    "sns.scatterplot(data=all_perch_data, x='Length1', y='residual', color='red')\n",
    "#for ax in g.axes.flat:\n",
    "#    ax.axhline(0, ls='--')\n",
    "plt.show()"
   ]
  },
  {
   "cell_type": "code",
   "execution_count": null,
   "metadata": {},
   "outputs": [],
   "source": []
  }
 ],
 "metadata": {
  "kernelspec": {
   "display_name": "Python [conda env:base] *",
   "language": "python",
   "name": "conda-base-py"
  },
  "language_info": {
   "codemirror_mode": {
    "name": "ipython",
    "version": 3
   },
   "file_extension": ".py",
   "mimetype": "text/x-python",
   "name": "python",
   "nbconvert_exporter": "python",
   "pygments_lexer": "ipython3",
   "version": "3.11.7"
  }
 },
 "nbformat": 4,
 "nbformat_minor": 4
}
